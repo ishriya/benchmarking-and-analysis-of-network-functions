{
 "cells": [
  {
   "cell_type": "code",
   "execution_count": 1,
   "metadata": {},
   "outputs": [],
   "source": [
    "def select_and_rename(df, mapping):\n",
    "    \"\"\"\n",
    "    Helper: Selects columns of df using the keys\n",
    "    of the mapping dict.\n",
    "    Then renames the columns to the values of the\n",
    "    mappings dict.\n",
    "    \"\"\"\n",
    "    # select subset of columns\n",
    "    dff = df[list(mapping.keys())]\n",
    "    # rename \n",
    "    for k, v in mapping.items():\n",
    "        #print(\"Renaming: {} -> {}\".format(k, v))\n",
    "        dff.rename(columns={k: v}, inplace=True)\n",
    "    #print(dff.head())\n",
    "    return dff"
   ]
  },
  {
   "cell_type": "code",
   "execution_count": 2,
   "metadata": {},
   "outputs": [
    {
     "name": "stderr",
     "output_type": "stream",
     "text": [
      "/home/idli/project/lib/python3.6/site-packages/pandas/core/frame.py:3781: SettingWithCopyWarning: \n",
      "A value is trying to be set on a copy of a slice from a DataFrame\n",
      "\n",
      "See the caveats in the documentation: http://pandas.pydata.org/pandas-docs/stable/indexing.html#indexing-view-versus-copy\n",
      "  return super(DataFrame, self).rename(**kwargs)\n"
     ]
    },
    {
     "name": "stdout",
     "output_type": "stream",
     "text": [
      "  size  cpu_bw  mem  requests_per_second  completed_requests  failed_requests  \\\n",
      "0    2     0.3  256               425.84                9999                0   \n",
      "1    2     0.3  256               421.83                9999                0   \n",
      "2    2     0.3  256               412.97                9999                0   \n",
      "3    2     0.3  256               418.91                9999                0   \n",
      "4    2     0.3  256               411.86                9999                0   \n",
      "\n",
      "   html_transfer_byte  mean_time_per_request  total_transfer_byte  \\\n",
      "0                   0                  2.348              2749725   \n",
      "1                   0                  2.371              2749725   \n",
      "2                   0                  2.421              2749725   \n",
      "3                   0                  2.387              2749725   \n",
      "4                   0                  2.428              2749725   \n",
      "\n",
      "   transfer_rate_kbyte_per_second      vnf  \n",
      "0                          114.36  traefik  \n",
      "1                          113.28  traefik  \n",
      "2                          110.90  traefik  \n",
      "3                          112.50  traefik  \n",
      "4                          110.61  traefik  \n",
      "---\n"
     ]
    }
   ],
   "source": [
    "%matplotlib inline\n",
    "import matplotlib.pyplot as plt\n",
    "import pandas as pd\n",
    "import seaborn as sns\n",
    "import matplotlib\n",
    "import numpy as np\n",
    "sns.set_style(\"ticks\")\n",
    "\n",
    "CONF_ID = \"param__header__all__config_id\"\n",
    "\n",
    "df01 = pd.read_csv(\"/home/idli/results/analysis/result_ec_metrics_full.csv\")\n",
    "\n",
    "mapping01 = {\n",
    "    \"param__func__mp.input__cmd_start\": \"size\",\n",
    "    #\"param__func__de.upb.lb-traefik.0.1__cpu_bw\": \"cpu_bw\",\n",
    "    #\"param__func__de.upb.lb-traefik.0.1__mem_max\": \"mem\",\n",
    "    \"param__func__de.upb.lb-traefik.0.1__cpu_bw\": \"cpu_bw\",\n",
    "    \"param__func__de.upb.lb-traefik.0.1__mem_max\": \"mem\",\n",
    "    \"metric__mp.input.vdu01.0__ab_request_per_second\": \"requests_per_second\",\n",
    "    \"metric__mp.input.vdu01.0__ab_completed_requests\": \"completed_requests\",\n",
    "    \"metric__mp.input.vdu01.0__ab_failed_requests\": \"failed_requests\",\n",
    "    \"metric__mp.input.vdu01.0__ab_html_transfer_byte\": \"html_transfer_byte\",\n",
    "    \"metric__mp.input.vdu01.0__ab_mean_time_per_request\": \"mean_time_per_request\",\n",
    "    \"metric__mp.input.vdu01.0__ab_total_transfer_byte\": \"total_transfer_byte\",\n",
    "    \"metric__mp.input.vdu01.0__ab_transfer_rate_kbyte_per_second\": \"transfer_rate_kbyte_per_second\",\n",
    "}\n",
    "\n",
    "\n",
    "df01 = select_and_rename(df01, mapping01)\n",
    "#df02 = select_and_rename(df02, mapping02)\n",
    "#df03 = select_and_rename(df03, mapping03)\n",
    "\n",
    "df01[\"vnf\"] = \"traefik\"\n",
    "#df02[\"vnf\"] = \"tested haproxy\"\n",
    "#df03[\"vnf\"] = \"nginx with 1 server\"\n",
    "\n",
    "#df02[\"ids\"] = \"snort2\"\n",
    "\n",
    "df_list = [df01]\n",
    "#df.reset_index(inplace=True)\n",
    "# clear the data\n",
    "for df in df_list:\n",
    "    #df[\"size\"] = df[\"size\"].str.replace(\"ab -c 1 -t 60 -n 9999999 -e /tngbench_share/ab_dist.csv -s 60 -k -i http://20.0.0.254:8888/\", \"haproxy1\")\n",
    "    #df[\"size\"] = df[\"size\"].str.replace(\"ab -c 9999 -r -t 60 -n 99999999 -e /tngbench_share/ab_logs2.csv -s 60 -k -X 20.10.0.2:3128 http://40.0.0.254:80/\", \"squid\")\n",
    "    df[\"size\"] = df[\"size\"].str.replace(\"ab -c 1 -t 60 -n 9999 -e /tngbench_share/ab_logs.csv -s 60 -k -i http://20.0.0.254:80/\", \"2\")\n",
    "    print(df.head())\n",
    "    print(\"---\")\n",
    "\n",
    "df_combined = pd.concat(df_list)"
   ]
  },
  {
   "cell_type": "code",
   "execution_count": 3,
   "metadata": {},
   "outputs": [
    {
     "data": {
      "text/plain": [
       "(1920, 11)"
      ]
     },
     "execution_count": 3,
     "metadata": {},
     "output_type": "execute_result"
    }
   ],
   "source": [
    "from sklearn.linear_model import LinearRegression\n",
    "from sklearn.model_selection import train_test_split\n",
    "#from sklearn.ensemble import RandomForestRegressor\n",
    "from sklearn import metrics\n",
    "df01.shape"
   ]
  },
  {
   "cell_type": "code",
   "execution_count": 4,
   "metadata": {},
   "outputs": [],
   "source": [
    "#df01= df01.dropna()\n",
    "#df01 = df01.fillna(df01.mean())\n",
    "X =  df01['cpu_bw'].values.reshape(-1,1)\n",
    "y =  df01['requests_per_second'].values.reshape(-1,1)"
   ]
  },
  {
   "cell_type": "code",
   "execution_count": 5,
   "metadata": {},
   "outputs": [],
   "source": [
    "train_Xset, X_testset, train_Yset, y_testset = train_test_split(X, y, test_size=0.2, random_state=0)"
   ]
  },
  {
   "cell_type": "code",
   "execution_count": 6,
   "metadata": {},
   "outputs": [
    {
     "data": {
      "text/plain": [
       "LinearRegression(copy_X=True, fit_intercept=True, n_jobs=None, normalize=False)"
      ]
     },
     "execution_count": 6,
     "metadata": {},
     "output_type": "execute_result"
    }
   ],
   "source": [
    "regressor = LinearRegression()  \n",
    "regressor.fit(train_Xset, train_Yset)"
   ]
  },
  {
   "cell_type": "code",
   "execution_count": 7,
   "metadata": {},
   "outputs": [
    {
     "name": "stdout",
     "output_type": "stream",
     "text": [
      "[143.85081004]\n"
     ]
    }
   ],
   "source": [
    "print(regressor.intercept_)"
   ]
  },
  {
   "cell_type": "code",
   "execution_count": 8,
   "metadata": {},
   "outputs": [
    {
     "name": "stdout",
     "output_type": "stream",
     "text": [
      "[[1110.4745988]]\n"
     ]
    }
   ],
   "source": [
    "print(regressor.coef_)"
   ]
  },
  {
   "cell_type": "code",
   "execution_count": 9,
   "metadata": {},
   "outputs": [],
   "source": [
    "prediction1 = regressor.predict(X_testset)"
   ]
  },
  {
   "cell_type": "code",
   "execution_count": 10,
   "metadata": {},
   "outputs": [
    {
     "data": {
      "text/html": [
       "<div>\n",
       "<style scoped>\n",
       "    .dataframe tbody tr th:only-of-type {\n",
       "        vertical-align: middle;\n",
       "    }\n",
       "\n",
       "    .dataframe tbody tr th {\n",
       "        vertical-align: top;\n",
       "    }\n",
       "\n",
       "    .dataframe thead th {\n",
       "        text-align: right;\n",
       "    }\n",
       "</style>\n",
       "<table border=\"1\" class=\"dataframe\">\n",
       "  <thead>\n",
       "    <tr style=\"text-align: right;\">\n",
       "      <th></th>\n",
       "      <th>Actual</th>\n",
       "      <th>Predicted</th>\n",
       "    </tr>\n",
       "  </thead>\n",
       "  <tbody>\n",
       "    <tr>\n",
       "      <th>0</th>\n",
       "      <td>556.17</td>\n",
       "      <td>588.040650</td>\n",
       "    </tr>\n",
       "    <tr>\n",
       "      <th>1</th>\n",
       "      <td>1134.37</td>\n",
       "      <td>1143.277949</td>\n",
       "    </tr>\n",
       "    <tr>\n",
       "      <th>2</th>\n",
       "      <td>1116.26</td>\n",
       "      <td>1032.230489</td>\n",
       "    </tr>\n",
       "    <tr>\n",
       "      <th>3</th>\n",
       "      <td>1144.38</td>\n",
       "      <td>1143.277949</td>\n",
       "    </tr>\n",
       "    <tr>\n",
       "      <th>4</th>\n",
       "      <td>572.43</td>\n",
       "      <td>588.040650</td>\n",
       "    </tr>\n",
       "    <tr>\n",
       "      <th>5</th>\n",
       "      <td>566.60</td>\n",
       "      <td>588.040650</td>\n",
       "    </tr>\n",
       "    <tr>\n",
       "      <th>6</th>\n",
       "      <td>412.42</td>\n",
       "      <td>476.993190</td>\n",
       "    </tr>\n",
       "    <tr>\n",
       "      <th>7</th>\n",
       "      <td>842.42</td>\n",
       "      <td>810.135569</td>\n",
       "    </tr>\n",
       "    <tr>\n",
       "      <th>8</th>\n",
       "      <td>417.27</td>\n",
       "      <td>476.993190</td>\n",
       "    </tr>\n",
       "    <tr>\n",
       "      <th>9</th>\n",
       "      <td>413.20</td>\n",
       "      <td>476.993190</td>\n",
       "    </tr>\n",
       "    <tr>\n",
       "      <th>10</th>\n",
       "      <td>1105.68</td>\n",
       "      <td>1032.230489</td>\n",
       "    </tr>\n",
       "    <tr>\n",
       "      <th>11</th>\n",
       "      <td>831.96</td>\n",
       "      <td>810.135569</td>\n",
       "    </tr>\n",
       "    <tr>\n",
       "      <th>12</th>\n",
       "      <td>1125.62</td>\n",
       "      <td>1254.325409</td>\n",
       "    </tr>\n",
       "    <tr>\n",
       "      <th>13</th>\n",
       "      <td>421.01</td>\n",
       "      <td>476.993190</td>\n",
       "    </tr>\n",
       "    <tr>\n",
       "      <th>14</th>\n",
       "      <td>1140.27</td>\n",
       "      <td>1143.277949</td>\n",
       "    </tr>\n",
       "    <tr>\n",
       "      <th>15</th>\n",
       "      <td>562.46</td>\n",
       "      <td>588.040650</td>\n",
       "    </tr>\n",
       "    <tr>\n",
       "      <th>16</th>\n",
       "      <td>852.24</td>\n",
       "      <td>810.135569</td>\n",
       "    </tr>\n",
       "    <tr>\n",
       "      <th>17</th>\n",
       "      <td>847.36</td>\n",
       "      <td>810.135569</td>\n",
       "    </tr>\n",
       "    <tr>\n",
       "      <th>18</th>\n",
       "      <td>991.97</td>\n",
       "      <td>921.183029</td>\n",
       "    </tr>\n",
       "    <tr>\n",
       "      <th>19</th>\n",
       "      <td>975.30</td>\n",
       "      <td>921.183029</td>\n",
       "    </tr>\n",
       "    <tr>\n",
       "      <th>20</th>\n",
       "      <td>978.75</td>\n",
       "      <td>921.183029</td>\n",
       "    </tr>\n",
       "    <tr>\n",
       "      <th>21</th>\n",
       "      <td>416.85</td>\n",
       "      <td>476.993190</td>\n",
       "    </tr>\n",
       "    <tr>\n",
       "      <th>22</th>\n",
       "      <td>719.52</td>\n",
       "      <td>699.088109</td>\n",
       "    </tr>\n",
       "    <tr>\n",
       "      <th>23</th>\n",
       "      <td>700.27</td>\n",
       "      <td>699.088109</td>\n",
       "    </tr>\n",
       "    <tr>\n",
       "      <th>24</th>\n",
       "      <td>562.52</td>\n",
       "      <td>588.040650</td>\n",
       "    </tr>\n",
       "  </tbody>\n",
       "</table>\n",
       "</div>"
      ],
      "text/plain": [
       "     Actual    Predicted\n",
       "0    556.17   588.040650\n",
       "1   1134.37  1143.277949\n",
       "2   1116.26  1032.230489\n",
       "3   1144.38  1143.277949\n",
       "4    572.43   588.040650\n",
       "5    566.60   588.040650\n",
       "6    412.42   476.993190\n",
       "7    842.42   810.135569\n",
       "8    417.27   476.993190\n",
       "9    413.20   476.993190\n",
       "10  1105.68  1032.230489\n",
       "11   831.96   810.135569\n",
       "12  1125.62  1254.325409\n",
       "13   421.01   476.993190\n",
       "14  1140.27  1143.277949\n",
       "15   562.46   588.040650\n",
       "16   852.24   810.135569\n",
       "17   847.36   810.135569\n",
       "18   991.97   921.183029\n",
       "19   975.30   921.183029\n",
       "20   978.75   921.183029\n",
       "21   416.85   476.993190\n",
       "22   719.52   699.088109\n",
       "23   700.27   699.088109\n",
       "24   562.52   588.040650"
      ]
     },
     "execution_count": 10,
     "metadata": {},
     "output_type": "execute_result"
    }
   ],
   "source": [
    "df = pd.DataFrame({'Actual': y_testset.flatten(), 'Predicted': prediction1.flatten()})\n",
    "df1 = df.head(25)\n",
    "df1"
   ]
  },
  {
   "cell_type": "code",
   "execution_count": 11,
   "metadata": {},
   "outputs": [],
   "source": [
    "mae_LR =  metrics.mean_absolute_error(y_testset, prediction1)\n",
    "mse_LR =  metrics.mean_squared_error(y_testset, prediction1) \n",
    "r_LR= np.sqrt(metrics.mean_squared_error(y_testset, prediction1))"
   ]
  },
  {
   "cell_type": "code",
   "execution_count": 12,
   "metadata": {},
   "outputs": [
    {
     "data": {
      "image/png": "[encoded data removed]",
      "text/plain": [
       "<Figure size 432x288 with 1 Axes>"
      ]
     },
     "metadata": {
      "needs_background": "light"
     },
     "output_type": "display_data"
    }
   ],
   "source": [
    "plt.scatter(X_testset, y_testset,  color='gray')\n",
    "plt.plot(X_testset, prediction1, color='red', linewidth=2)\n",
    "plt.title('Linear regression model for traefik')  \n",
    "plt.ylabel('requests per second')  \n",
    "plt.xlabel('cpu_bw')\n",
    "plt.savefig(\"/home/idli/results/analysis/plots/prediction.png\")"
   ]
  },
  {
   "cell_type": "code",
   "execution_count": 13,
   "metadata": {},
   "outputs": [],
   "source": [
    "from sklearn.ensemble import RandomForestRegressor\n",
    "regressor1 = RandomForestRegressor(n_estimators = 2000, random_state = 0) \n",
    "regressor1.fit(train_Xset,train_Yset.ravel())   \n",
    "prediction2 = regressor1.predict(X_testset)"
   ]
  },
  {
   "cell_type": "code",
   "execution_count": 14,
   "metadata": {},
   "outputs": [
    {
     "data": {
      "text/html": [
       "<div>\n",
       "<style scoped>\n",
       "    .dataframe tbody tr th:only-of-type {\n",
       "        vertical-align: middle;\n",
       "    }\n",
       "\n",
       "    .dataframe tbody tr th {\n",
       "        vertical-align: top;\n",
       "    }\n",
       "\n",
       "    .dataframe thead th {\n",
       "        text-align: right;\n",
       "    }\n",
       "</style>\n",
       "<table border=\"1\" class=\"dataframe\">\n",
       "  <thead>\n",
       "    <tr style=\"text-align: right;\">\n",
       "      <th></th>\n",
       "      <th>Actual</th>\n",
       "      <th>Predicted</th>\n",
       "    </tr>\n",
       "  </thead>\n",
       "  <tbody>\n",
       "    <tr>\n",
       "      <th>0</th>\n",
       "      <td>556.17</td>\n",
       "      <td>562.013529</td>\n",
       "    </tr>\n",
       "    <tr>\n",
       "      <th>1</th>\n",
       "      <td>1134.37</td>\n",
       "      <td>1146.042028</td>\n",
       "    </tr>\n",
       "    <tr>\n",
       "      <th>2</th>\n",
       "      <td>1116.26</td>\n",
       "      <td>1115.636447</td>\n",
       "    </tr>\n",
       "    <tr>\n",
       "      <th>3</th>\n",
       "      <td>1144.38</td>\n",
       "      <td>1146.042028</td>\n",
       "    </tr>\n",
       "    <tr>\n",
       "      <th>4</th>\n",
       "      <td>572.43</td>\n",
       "      <td>562.013529</td>\n",
       "    </tr>\n",
       "    <tr>\n",
       "      <th>5</th>\n",
       "      <td>566.60</td>\n",
       "      <td>562.013529</td>\n",
       "    </tr>\n",
       "    <tr>\n",
       "      <th>6</th>\n",
       "      <td>412.42</td>\n",
       "      <td>419.010711</td>\n",
       "    </tr>\n",
       "    <tr>\n",
       "      <th>7</th>\n",
       "      <td>842.42</td>\n",
       "      <td>846.293841</td>\n",
       "    </tr>\n",
       "    <tr>\n",
       "      <th>8</th>\n",
       "      <td>417.27</td>\n",
       "      <td>419.010711</td>\n",
       "    </tr>\n",
       "    <tr>\n",
       "      <th>9</th>\n",
       "      <td>413.20</td>\n",
       "      <td>419.010711</td>\n",
       "    </tr>\n",
       "    <tr>\n",
       "      <th>10</th>\n",
       "      <td>1105.68</td>\n",
       "      <td>1115.636447</td>\n",
       "    </tr>\n",
       "    <tr>\n",
       "      <th>11</th>\n",
       "      <td>831.96</td>\n",
       "      <td>846.293841</td>\n",
       "    </tr>\n",
       "    <tr>\n",
       "      <th>12</th>\n",
       "      <td>1125.62</td>\n",
       "      <td>1144.607553</td>\n",
       "    </tr>\n",
       "    <tr>\n",
       "      <th>13</th>\n",
       "      <td>421.01</td>\n",
       "      <td>419.010711</td>\n",
       "    </tr>\n",
       "    <tr>\n",
       "      <th>14</th>\n",
       "      <td>1140.27</td>\n",
       "      <td>1146.042028</td>\n",
       "    </tr>\n",
       "    <tr>\n",
       "      <th>15</th>\n",
       "      <td>562.46</td>\n",
       "      <td>562.013529</td>\n",
       "    </tr>\n",
       "    <tr>\n",
       "      <th>16</th>\n",
       "      <td>852.24</td>\n",
       "      <td>846.293841</td>\n",
       "    </tr>\n",
       "    <tr>\n",
       "      <th>17</th>\n",
       "      <td>847.36</td>\n",
       "      <td>846.293841</td>\n",
       "    </tr>\n",
       "    <tr>\n",
       "      <th>18</th>\n",
       "      <td>991.97</td>\n",
       "      <td>982.694793</td>\n",
       "    </tr>\n",
       "    <tr>\n",
       "      <th>19</th>\n",
       "      <td>975.30</td>\n",
       "      <td>982.694793</td>\n",
       "    </tr>\n",
       "    <tr>\n",
       "      <th>20</th>\n",
       "      <td>978.75</td>\n",
       "      <td>982.694793</td>\n",
       "    </tr>\n",
       "    <tr>\n",
       "      <th>21</th>\n",
       "      <td>416.85</td>\n",
       "      <td>419.010711</td>\n",
       "    </tr>\n",
       "    <tr>\n",
       "      <th>22</th>\n",
       "      <td>719.52</td>\n",
       "      <td>707.062882</td>\n",
       "    </tr>\n",
       "    <tr>\n",
       "      <th>23</th>\n",
       "      <td>700.27</td>\n",
       "      <td>707.062882</td>\n",
       "    </tr>\n",
       "    <tr>\n",
       "      <th>24</th>\n",
       "      <td>562.52</td>\n",
       "      <td>562.013529</td>\n",
       "    </tr>\n",
       "  </tbody>\n",
       "</table>\n",
       "</div>"
      ],
      "text/plain": [
       "     Actual    Predicted\n",
       "0    556.17   562.013529\n",
       "1   1134.37  1146.042028\n",
       "2   1116.26  1115.636447\n",
       "3   1144.38  1146.042028\n",
       "4    572.43   562.013529\n",
       "5    566.60   562.013529\n",
       "6    412.42   419.010711\n",
       "7    842.42   846.293841\n",
       "8    417.27   419.010711\n",
       "9    413.20   419.010711\n",
       "10  1105.68  1115.636447\n",
       "11   831.96   846.293841\n",
       "12  1125.62  1144.607553\n",
       "13   421.01   419.010711\n",
       "14  1140.27  1146.042028\n",
       "15   562.46   562.013529\n",
       "16   852.24   846.293841\n",
       "17   847.36   846.293841\n",
       "18   991.97   982.694793\n",
       "19   975.30   982.694793\n",
       "20   978.75   982.694793\n",
       "21   416.85   419.010711\n",
       "22   719.52   707.062882\n",
       "23   700.27   707.062882\n",
       "24   562.52   562.013529"
      ]
     },
     "execution_count": 14,
     "metadata": {},
     "output_type": "execute_result"
    }
   ],
   "source": [
    "df_rf = pd.DataFrame({'Actual': y_testset.flatten(), 'Predicted': prediction2.flatten()})\n",
    "df2 = df_rf.head(25)\n",
    "df2"
   ]
  },
  {
   "cell_type": "code",
   "execution_count": 15,
   "metadata": {},
   "outputs": [],
   "source": [
    "mae_RF =  metrics.mean_absolute_error(y_testset, prediction2)\n",
    "mse_RF =  metrics.mean_squared_error(y_testset, prediction2)\n",
    "r_RF =  np.sqrt(metrics.mean_squared_error(y_testset, prediction2))"
   ]
  },
  {
   "cell_type": "code",
   "execution_count": 16,
   "metadata": {},
   "outputs": [
    {
     "data": {
      "image/png": "[encoded data removed]",
      "text/plain": [
       "<Figure size 432x288 with 1 Axes>"
      ]
     },
     "metadata": {
      "needs_background": "light"
     },
     "output_type": "display_data"
    }
   ],
   "source": [
    "x_grid=np.arange(min(X),max(X),0.01)\n",
    "x_grid=x_grid.reshape((len(x_grid),1))\n",
    "plt.scatter(X_testset, y_testset,  color='gray')\n",
    "plt.plot(x_grid, regressor1.predict(x_grid), color='red')\n",
    "plt.title('Random forest prediction model for traefik')  \n",
    "plt.ylabel('requests per second')  \n",
    "plt.xlabel('cpu_bw')\n",
    "plt.savefig(\"/home/idli/results/analysis/plots/prediction_randomforest.png\")"
   ]
  },
  {
   "cell_type": "code",
   "execution_count": 17,
   "metadata": {},
   "outputs": [],
   "source": [
    "from sklearn.svm import SVR\n",
    "regressor_rbf = SVR(kernel='rbf', C=100, gamma=0.1, epsilon=.1)\n",
    "regressor_lin = SVR(kernel='linear', C=100, gamma='auto')\n",
    "regressor_poly = SVR(kernel='poly', C=100, gamma='auto', degree=3, epsilon=.1,\n",
    "               coef0=1)\n",
    "y_rbf = regressor_rbf.fit(train_Xset, train_Yset.ravel())\n",
    "prediction_rbf = regressor_rbf.predict(X_testset)\n",
    "y_lin = regressor_lin.fit(train_Xset, train_Yset.ravel())\n",
    "prediction_lin = regressor_lin.predict(X_testset)\n",
    "y_poly = regressor_poly.fit(train_Xset, train_Yset.ravel())\n",
    "prediction_poly = regressor_poly.predict(X_testset)"
   ]
  },
  {
   "cell_type": "code",
   "execution_count": 18,
   "metadata": {},
   "outputs": [
    {
     "data": {
      "image/png": "[encoded data removed]",
      "text/plain": [
       "<Figure size 432x288 with 1 Axes>"
      ]
     },
     "metadata": {
      "needs_background": "light"
     },
     "output_type": "display_data"
    }
   ],
   "source": [
    "x_grid1=np.arange(min(X),max(X),0.01)\n",
    "x_grid1=x_grid1.reshape((len(x_grid1),1))\n",
    "lw = 2\n",
    "plt.scatter(X_testset, y_testset, color='orange', label='data')\n",
    "#plt.hold('on')\n",
    "#plt.plot(X_testset, prediction_rbf, color='blue', lw=lw, label='RBF model')\n",
    "plt.plot(X_testset, prediction_lin, color='green', lw=lw, label='Linear model')\n",
    "plt.plot(x_grid1, regressor_poly.predict(x_grid1), color='red',lw=lw, label='Polynomial model')\n",
    "#plt.plot(X_testset, y_poly, color='cornflowerblue', lw=lw, label='Polynomial model')\n",
    "plt.xlabel('cpu_bw')\n",
    "plt.ylabel('requests per second')\n",
    "plt.title('Support Vector Regression model for traefik')\n",
    "plt.legend()\n",
    "plt.savefig(\"/home/idli/results/analysis/plots/prediction_svr.png\")"
   ]
  },
  {
   "cell_type": "code",
   "execution_count": 19,
   "metadata": {},
   "outputs": [],
   "source": [
    "#mae_RBF =  metrics.mean_absolute_error(y_testset, prediction_rbf)\n",
    "#mse_RBF =  metrics.mean_squared_error(y_testset, prediction_rbf)\n",
    "#r_RBF =  np.sqrt(metrics.mean_squared_error(y_testset, prediction_rbf))\n",
    "mae_LIN =  metrics.mean_absolute_error(y_testset, prediction_lin)\n",
    "mse_LIN =  metrics.mean_squared_error(y_testset, prediction_lin)\n",
    "r_LIN =  np.sqrt(metrics.mean_squared_error(y_testset, prediction_lin))\n",
    "mae_poly =  metrics.mean_absolute_error(y_testset, prediction_poly)\n",
    "mse_poly =  metrics.mean_squared_error(y_testset, prediction_poly)\n",
    "r_poly =  np.sqrt(metrics.mean_squared_error(y_testset, prediction_poly))     "
   ]
  },
  {
   "cell_type": "code",
   "execution_count": 20,
   "metadata": {},
   "outputs": [
    {
     "name": "stdout",
     "output_type": "stream",
     "text": [
      "   Regression_method Metric       values\n",
      "0                 LR    MAE    49.944749\n",
      "1                 LR    MSE  3675.081200\n",
      "2                 LR   RMSE    60.622448\n",
      "3                 RF    MAE     7.484562\n",
      "4                 RF    MSE   101.356875\n",
      "5                 RF   RMSE    10.067615\n",
      "6            SVR_LIN    MAE    48.294304\n",
      "7            SVR_LIN    MSE  3788.609936\n",
      "8            SVR_LIN   RMSE    61.551685\n",
      "9           SVR_POLY    MAE    16.571688\n",
      "10          SVR_POLY    MSE   505.863767\n",
      "11          SVR_POLY   RMSE    22.491415\n"
     ]
    }
   ],
   "source": [
    "summary2 = {\n",
    "        'Regression_method': ['LR','LR','LR','RF','RF','RF','SVR_LIN','SVR_LIN','SVR_LIN','SVR_POLY','SVR_POLY','SVR_POLY'],\n",
    "        'Metric': ['MAE','MSE','RMSE','MAE','MSE','RMSE','MAE','MSE','RMSE','MAE','MSE','RMSE'],\n",
    "        'values': [mae_LR, mse_LR,r_LR, mae_RF,mse_RF, r_RF, mae_LIN,mse_LIN, r_LIN, mae_poly,mse_poly,r_poly]\n",
    "        }\n",
    "df_summary = pd.DataFrame(summary2)\n",
    "print(df_summary)"
   ]
  },
  {
   "cell_type": "code",
   "execution_count": 21,
   "metadata": {},
   "outputs": [
    {
     "data": {
      "image/png": "[encoded data removed]",
      "text/plain": [
       "<Figure size 496x432 with 1 Axes>"
      ]
     },
     "metadata": {
      "needs_background": "light"
     },
     "output_type": "display_data"
    }
   ],
   "source": [
    "#df_summary = df.reset_index()\n",
    "g= sns.catplot(x=\"Regression_method\", y=\"values\", hue=\"Metric\", data=df_summary,\n",
    "                height=6, kind=\"bar\", palette=\"muted\")\n",
    "#plt.title('Comparison of regression methods')  \n",
    "plt.savefig(\"/home/idli/results/analysis/plots/comparison.png\")"
   ]
  },
  {
   "cell_type": "code",
   "execution_count": 22,
   "metadata": {},
   "outputs": [
    {
     "name": "stdout",
     "output_type": "stream",
     "text": [
      "Enter the available cpu bw: 0.6\n",
      "Approx. number of requests served per second by traefik:  [846.29384108]\n"
     ]
    }
   ],
   "source": [
    "# Since random forest makes the best prediction, here you can make a prediction for available cpu bandwidth\n",
    "X_new = [[input(\"Enter the available cpu bw: \")]] \n",
    "\n",
    "predict = regressor1.predict(X_new)\n",
    "print(\"Approx. number of requests served per second by traefik: \", predict)"
   ]
  },
  {
   "cell_type": "code",
   "execution_count": null,
   "metadata": {},
   "outputs": [],
   "source": []
  }
 ],
 "metadata": {
  "kernelspec": {
   "display_name": "Python 3",
   "language": "python",
   "name": "python3"
  },
  "language_info": {
   "codemirror_mode": {
    "name": "ipython",
    "version": 3
   },
   "file_extension": ".py",
   "mimetype": "text/x-python",
   "name": "python",
   "nbconvert_exporter": "python",
   "pygments_lexer": "ipython3",
   "version": "3.6.8"
  }
 },
 "nbformat": 4,
 "nbformat_minor": 2
}
